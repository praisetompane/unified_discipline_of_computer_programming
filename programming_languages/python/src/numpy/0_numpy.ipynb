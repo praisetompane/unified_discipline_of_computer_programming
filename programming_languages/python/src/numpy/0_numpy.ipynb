{
 "cells": [
  {
   "cell_type": "code",
   "execution_count": 3,
   "metadata": {},
   "outputs": [],
   "source": [
    "import numpy as np\n",
    "from math import sin"
   ]
  },
  {
   "cell_type": "code",
   "execution_count": 5,
   "metadata": {},
   "outputs": [
    {
     "data": {
      "text/plain": [
       "[20, 22, 24, 26, 28, 30]"
      ]
     },
     "execution_count": 5,
     "metadata": {},
     "output_type": "execute_result"
    }
   ],
   "source": [
    "list_integers = list(range(20, 31, 2)) #setup cannot be decimal values\n",
    "list_integers\n",
    "#sin(list_integers) # does not work as sin requires a single number"
   ]
  },
  {
   "cell_type": "code",
   "execution_count": 6,
   "metadata": {},
   "outputs": [
    {
     "data": {
      "text/plain": [
       "array([ 0.91294525, -0.00885131, -0.90557836,  0.76255845,  0.27090579,\n",
       "       -0.98803162])"
      ]
     },
     "execution_count": 6,
     "metadata": {},
     "output_type": "execute_result"
    }
   ],
   "source": [
    "list_integers = np.arange(20, 31, 2)\n",
    "np.sin(list_integers)"
   ]
  },
  {
   "cell_type": "code",
   "execution_count": 13,
   "metadata": {},
   "outputs": [
    {
     "data": {
      "text/plain": [
       "array([20. , 20.2, 20.4, 20.6, 20.8, 21. , 21.2, 21.4, 21.6, 21.8, 22. ,\n",
       "       22.2, 22.4, 22.6, 22.8, 23. , 23.2, 23.4, 23.6, 23.8, 24. , 24.2,\n",
       "       24.4, 24.6, 24.8, 25. , 25.2, 25.4, 25.6, 25.8, 26. , 26.2, 26.4,\n",
       "       26.6, 26.8, 27. , 27.2, 27.4, 27.6, 27.8, 28. , 28.2, 28.4, 28.6,\n",
       "       28.8, 29. , 29.2, 29.4, 29.6, 29.8, 30. ])"
      ]
     },
     "execution_count": 13,
     "metadata": {},
     "output_type": "execute_result"
    }
   ],
   "source": [
    "np.linspace(20, 30, 11)#11 equally spaced numbers\n",
    "np.linspace(20, 30, 10)#10 equally spaced numbers\n",
    "np.linspace(20, 30, 51)#51 equally spaced numbers"
   ]
  },
  {
   "cell_type": "markdown",
   "metadata": {},
   "source": [
    "Random Integers"
   ]
  },
  {
   "cell_type": "code",
   "execution_count": 17,
   "metadata": {},
   "outputs": [
    {
     "name": "stdout",
     "output_type": "stream",
     "text": [
      "[ 3 -1 -7 -3  5  7 -4  3  9  8  4 -8  5 -8  2 -7  3  1 -6 -7]\n"
     ]
    }
   ],
   "source": [
    "import random\n",
    "x = np.array([random.randint(-10, 10) for i in range(20)])\n",
    "print(x)"
   ]
  },
  {
   "cell_type": "markdown",
   "metadata": {},
   "source": [
    "Can apply any numpy mathematical function to a numpy array"
   ]
  },
  {
   "cell_type": "code",
   "execution_count": 23,
   "metadata": {},
   "outputs": [
    {
     "data": {
      "text/plain": [
       "array([-3,  5,  7, -4])"
      ]
     },
     "execution_count": 23,
     "metadata": {},
     "output_type": "execute_result"
    }
   ],
   "source": [
    "np.mean(x)\n",
    "np.exp(x)\n",
    "np.max(x)\n",
    "np.argmax(x)\n",
    "x[8]\n",
    "x[-1]\n",
    "x[3:7]"
   ]
  },
  {
   "cell_type": "code",
   "execution_count": 28,
   "metadata": {},
   "outputs": [],
   "source": [
    "def f(t):\n",
    "    return np.exp(t) + np.sin(t**2)"
   ]
  },
  {
   "cell_type": "code",
   "execution_count": 29,
   "metadata": {},
   "outputs": [
    {
     "data": {
      "text/plain": [
       "array([ 2.04976554e+01,  1.20935043e+00, -9.52840771e-01,  4.61905554e-01,\n",
       "        1.48280807e+02,  1.09567941e+03, -2.69587678e-01,  2.04976554e+01,\n",
       "        8.10245404e+03,  2.98187801e+03,  5.43102467e+01,  9.20361501e-01,\n",
       "        1.48280807e+02,  9.20361501e-01,  6.63225360e+00, -9.52840771e-01,\n",
       "        2.04976554e+01,  3.55975281e+00, -9.89300101e-01, -9.52840771e-01])"
      ]
     },
     "execution_count": 29,
     "metadata": {},
     "output_type": "execute_result"
    }
   ],
   "source": [
    "f(x)"
   ]
  },
  {
   "cell_type": "markdown",
   "metadata": {},
   "source": []
  }
 ],
 "metadata": {
  "interpreter": {
   "hash": "b803ed13e02ff73dde7fa75fd0b8a32c1c129226430e615b757f96ddc72bc012"
  },
  "kernelspec": {
   "display_name": "Python 3.9.9 ('venv': venv)",
   "language": "python",
   "name": "python3"
  },
  "language_info": {
   "codemirror_mode": {
    "name": "ipython",
    "version": 3
   },
   "file_extension": ".py",
   "mimetype": "text/x-python",
   "name": "python",
   "nbconvert_exporter": "python",
   "pygments_lexer": "ipython3",
   "version": "3.9.9"
  },
  "orig_nbformat": 4
 },
 "nbformat": 4,
 "nbformat_minor": 2
}
